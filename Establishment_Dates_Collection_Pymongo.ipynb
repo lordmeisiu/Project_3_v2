{
 "cells": [
  {
   "cell_type": "markdown",
   "id": "5d8ef50e",
   "metadata": {},
   "source": [
    "**Import csv into MongoDB using: mongoimport --type csv -d national_parks -c establishment_dates --headerline --drop out.csv**\n"
   ]
  },
  {
   "cell_type": "code",
   "execution_count": 1,
   "id": "5e1f13d9",
   "metadata": {},
   "outputs": [],
   "source": [
    "from pymongo import MongoClient\n",
    "from pprint import pprint\n",
    "import pandas as pd\n",
    "import folium\n",
    "from IPython.display import display"
   ]
  },
  {
   "cell_type": "code",
   "execution_count": 2,
   "id": "352e75db",
   "metadata": {},
   "outputs": [
    {
     "name": "stdout",
     "output_type": "stream",
     "text": [
      "['establishment_dates', 'campgrounds']\n"
     ]
    }
   ],
   "source": [
    "mongo = MongoClient(port=27017)\n",
    "\n",
    "db = mongo.national_parks\n",
    "\n",
    "print(db.list_collection_names())"
   ]
  },
  {
   "cell_type": "code",
   "execution_count": 3,
   "id": "b76ef756",
   "metadata": {
    "scrolled": true
   },
   "outputs": [
    {
     "name": "stdout",
     "output_type": "stream",
     "text": [
      "{'': 1,\n",
      " 'Area': '49,075.26 acres (198.6 km2)',\n",
      " 'Latitude': 44.35,\n",
      " 'Longitude': -68.21,\n",
      " 'Park': 'Acadia',\n",
      " 'Park Established': 'February 26, 1919',\n",
      " 'State(s)': 'Maine',\n",
      " 'Visitors (2018)': 3537575,\n",
      " '_id': ObjectId('63e589425381ea0fd5e3e677')}\n"
     ]
    }
   ],
   "source": [
    "establishment_db = db['establishment_dates']\n",
    "\n",
    "pprint(establishment_db.find_one())"
   ]
  }
 ],
 "metadata": {
  "kernelspec": {
   "display_name": "Python 3 (ipykernel)",
   "language": "python",
   "name": "python3"
  },
  "language_info": {
   "codemirror_mode": {
    "name": "ipython",
    "version": 3
   },
   "file_extension": ".py",
   "mimetype": "text/x-python",
   "name": "python",
   "nbconvert_exporter": "python",
   "pygments_lexer": "ipython3",
   "version": "3.9.13"
  }
 },
 "nbformat": 4,
 "nbformat_minor": 5
}
